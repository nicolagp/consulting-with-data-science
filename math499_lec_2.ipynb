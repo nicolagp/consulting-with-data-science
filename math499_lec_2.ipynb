{
 "cells": [
  {
   "cell_type": "markdown",
   "metadata": {},
   "source": [
    "# Class 2"
   ]
  },
  {
   "cell_type": "code",
   "execution_count": 1,
   "metadata": {},
   "outputs": [],
   "source": [
    "import pandas as pd\n",
    "import numpy as np\n",
    "import random\n",
    "from sklearn.metrics import confusion_matrix"
   ]
  },
  {
   "cell_type": "markdown",
   "metadata": {},
   "source": [
    "## Prudential Life evaluation\n",
    "### Generating random responses for the train data"
   ]
  },
  {
   "cell_type": "code",
   "execution_count": 2,
   "metadata": {},
   "outputs": [],
   "source": [
    "# Load dataset\n",
    "train = pd.read_csv('data/prudential-life-insurance-assessment/train.csv')"
   ]
  },
  {
   "cell_type": "code",
   "execution_count": 3,
   "metadata": {},
   "outputs": [],
   "source": [
    "# Generate random responses\n",
    "responses = np.zeros((train.shape[0], 1))\n",
    "for i in range(responses.shape[0]):\n",
    "    responses[i][0] = random.randint(1, 8)"
   ]
  },
  {
   "cell_type": "code",
   "execution_count": 4,
   "metadata": {},
   "outputs": [],
   "source": [
    "# Add response column to dataset\n",
    "train['predicted_response'] = responses"
   ]
  },
  {
   "cell_type": "markdown",
   "metadata": {},
   "source": [
    "### Weighted Kappa Metric"
   ]
  },
  {
   "cell_type": "markdown",
   "metadata": {},
   "source": [
    "Metric used to score subimissions in the prudential life insurance kaggle competition"
   ]
  },
  {
   "cell_type": "code",
   "execution_count": 5,
   "metadata": {},
   "outputs": [],
   "source": [
    "\"\"\"\n",
    "predicted: numpy array of predictions for each example\n",
    "actual: numpy array of correct labels for each example\n",
    "n: number of rating categories\n",
    "return: score\n",
    "\"\"\"\n",
    "def weighted_kappa(predicted, actual, n):\n",
    "    # calculate observed matrix\n",
    "    observed = confusion_matrix(actual, predicted)\n",
    "\n",
    "    # calculate weights matrix\n",
    "    weights = np.zeros((n, n))\n",
    "    for i in range(n):\n",
    "        for j in range(n):\n",
    "            weights[i][j] = abs(i - j)\n",
    "\n",
    "    # calculate and normalize expected matrix\n",
    "    actual_counts = np.array([actual.value_counts()])\n",
    "    predicted_counts = np.array([predicted.value_counts()])\n",
    "    expected = np.matmul(np.transpose(actual_counts), predicted_counts)\n",
    "    normalization = observed.sum() / expected.sum()\n",
    "    expected = expected * normalization\n",
    "\n",
    "    # calculate kappa\n",
    "    kappa = 1 - (np.dot(weights, observed).sum() / np.dot(weights, expected).sum())\n",
    "\n",
    "    return kappa"
   ]
  },
  {
   "cell_type": "code",
   "execution_count": 7,
   "metadata": {},
   "outputs": [
    {
     "name": "stdout",
     "output_type": "stream",
     "text": [
      "-0.05497288691951674\n"
     ]
    }
   ],
   "source": [
    "print(weighted_kappa(train['predicted_response'], train['Response'], 8))"
   ]
  }
 ],
 "metadata": {
  "kernelspec": {
   "display_name": "Python 3",
   "language": "python",
   "name": "python3"
  },
  "language_info": {
   "codemirror_mode": {
    "name": "ipython",
    "version": 3
   },
   "file_extension": ".py",
   "mimetype": "text/x-python",
   "name": "python",
   "nbconvert_exporter": "python",
   "pygments_lexer": "ipython3",
   "version": "3.7.4"
  }
 },
 "nbformat": 4,
 "nbformat_minor": 2
}
