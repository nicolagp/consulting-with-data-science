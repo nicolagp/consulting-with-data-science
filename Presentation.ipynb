{
 "cells": [
  {
   "cell_type": "markdown",
   "metadata": {},
   "source": [
    "# Filling missing data"
   ]
  },
  {
   "cell_type": "code",
   "execution_count": 23,
   "metadata": {},
   "outputs": [],
   "source": [
    "import pandas as pd\n",
    "import numpy as np"
   ]
  },
  {
   "cell_type": "code",
   "execution_count": 2,
   "metadata": {},
   "outputs": [],
   "source": [
    "df = pd.read_csv('data/prudential-life-insurance-assessment/train.csv')"
   ]
  },
  {
   "cell_type": "markdown",
   "metadata": {},
   "source": [
    "### Identifiying missing values"
   ]
  },
  {
   "cell_type": "code",
   "execution_count": 43,
   "metadata": {},
   "outputs": [
    {
     "data": {
      "text/plain": [
       "array([[    0,     0,     0,     0,     0,     0,     0,     0,     0,\n",
       "            0,     0,     0,    19,     0,     0,  6779,     0, 10854,\n",
       "            0,     0,     0,     0,     0,     0,     0,     0,     0,\n",
       "            0,     0, 25396,     0,     0,     0,     0, 28656, 34241,\n",
       "        19184, 41811,  8889,     0,     0,     0,     0,     0,     0,\n",
       "            0,     0, 58824,     0,     0,     0,     0, 44596,     0,\n",
       "            0,     0,     0,     0,     0,     0,     0, 55580,     0,\n",
       "            0,     0,     0,     0,     0,     0, 58274,     0,     0,\n",
       "            0,     0,     0,     0,     0,     0,     0,     0,     0,\n",
       "            0,     0,     0,     0,     0,     0,     0,     0,     0,\n",
       "            0,     0,     0,     0,     0,     0,     0,     0,     0,\n",
       "            0,     0,     0,     0,     0,     0,     0,     0,     0,\n",
       "            0,     0,     0,     0,     0,     0,     0,     0,     0,\n",
       "            0,     0,     0,     0,     0,     0,     0,     0,     0,\n",
       "            0,     0]], dtype=int64)"
      ]
     },
     "execution_count": 43,
     "metadata": {},
     "output_type": "execute_result"
    }
   ],
   "source": [
    "missing = {}\n",
    "for i in df.columns:\n",
    "    series = df[i]\n",
    "    na = series.isna().sum()\n",
    "    missing[series.name] = na\n",
    "#     print(\"{}: {}\".format(series.name, na))\n",
    "missing = pd.DataFrame([missing])\n",
    "missing.values"
   ]
  },
  {
   "cell_type": "markdown",
   "metadata": {},
   "source": [
    "### Correlation between response and columns with missing values"
   ]
  },
  {
   "cell_type": "code",
   "execution_count": 47,
   "metadata": {},
   "outputs": [
    {
     "name": "stdout",
     "output_type": "stream",
     "text": [
      "Employment_Info_1: 0.04085248323337571. Missing values: 19\n",
      "Employment_Info_4: -0.024125382944161968. Missing values: 6779\n",
      "Employment_Info_6: 0.01776578475797191. Missing values: 10854\n",
      "Insurance_History_5: 0.020420193926166973. Missing values: 25396\n",
      "Family_Hist_2: -0.0558996720571221. Missing values: 28656\n",
      "Family_Hist_3: -0.003828032409109357. Missing values: 34241\n",
      "Family_Hist_4: -0.0893776052516475. Missing values: 19184\n",
      "Family_Hist_5: -0.018642248507825195. Missing values: 41811\n",
      "Medical_History_1: 0.10305036782583012. Missing values: 8889\n",
      "Medical_History_10: 0.029198860341542454. Missing values: 58824\n",
      "Medical_History_15: 0.2773106184959633. Missing values: 44596\n",
      "Medical_History_24: 0.01338370062564343. Missing values: 55580\n",
      "Medical_History_32: 0.14453572606401383. Missing values: 58274\n"
     ]
    }
   ],
   "source": [
    "corr = df.corr()\n",
    "for i in missing.columns:\n",
    "    if missing[i].sum() > 0:\n",
    "        print(\"{}: {}. Missing values: {}\".format(i, corr.loc[i, 'Response'], missing[i].sum()))\n"
   ]
  },
  {
   "cell_type": "markdown",
   "metadata": {},
   "source": [
    "### Dropping rows with missing values for columns that highly correlate to reponse"
   ]
  },
  {
   "cell_type": "code",
   "execution_count": 55,
   "metadata": {},
   "outputs": [
    {
     "data": {
      "text/html": [
       "<div>\n",
       "<style scoped>\n",
       "    .dataframe tbody tr th:only-of-type {\n",
       "        vertical-align: middle;\n",
       "    }\n",
       "\n",
       "    .dataframe tbody tr th {\n",
       "        vertical-align: top;\n",
       "    }\n",
       "\n",
       "    .dataframe thead th {\n",
       "        text-align: right;\n",
       "    }\n",
       "</style>\n",
       "<table border=\"1\" class=\"dataframe\">\n",
       "  <thead>\n",
       "    <tr style=\"text-align: right;\">\n",
       "      <th></th>\n",
       "      <th>Medical_History_15</th>\n",
       "      <th>Response</th>\n",
       "    </tr>\n",
       "  </thead>\n",
       "  <tbody>\n",
       "    <tr>\n",
       "      <td>Medical_History_15</td>\n",
       "      <td>1.000000</td>\n",
       "      <td>0.277311</td>\n",
       "    </tr>\n",
       "    <tr>\n",
       "      <td>Response</td>\n",
       "      <td>0.277311</td>\n",
       "      <td>1.000000</td>\n",
       "    </tr>\n",
       "  </tbody>\n",
       "</table>\n",
       "</div>"
      ],
      "text/plain": [
       "                    Medical_History_15  Response\n",
       "Medical_History_15            1.000000  0.277311\n",
       "Response                      0.277311  1.000000"
      ]
     },
     "execution_count": 55,
     "metadata": {},
     "output_type": "execute_result"
    }
   ],
   "source": [
    "df[['Medical_History_15', 'Response']].dropna().corr()\n"
   ]
  }
 ],
 "metadata": {
  "kernelspec": {
   "display_name": "Python 3",
   "language": "python",
   "name": "python3"
  },
  "language_info": {
   "codemirror_mode": {
    "name": "ipython",
    "version": 3
   },
   "file_extension": ".py",
   "mimetype": "text/x-python",
   "name": "python",
   "nbconvert_exporter": "python",
   "pygments_lexer": "ipython3",
   "version": "3.7.4"
  }
 },
 "nbformat": 4,
 "nbformat_minor": 2
}
