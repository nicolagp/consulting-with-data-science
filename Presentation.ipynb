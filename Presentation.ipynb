{
 "cells": [
  {
   "cell_type": "markdown",
   "metadata": {},
   "source": [
    "# Filling missing data"
   ]
  },
  {
   "cell_type": "code",
   "execution_count": 36,
   "metadata": {},
   "outputs": [],
   "source": [
    "import pandas as pd\n",
    "import numpy as np\n",
    "import seaborn as sns\n",
    "import matplotlib.pyplot as plt\n",
    "%matplotlib inline"
   ]
  },
  {
   "cell_type": "code",
   "execution_count": 37,
   "metadata": {},
   "outputs": [],
   "source": [
    "df = pd.read_csv('data/prudential-life-insurance-assessment/train.csv')"
   ]
  },
  {
   "cell_type": "markdown",
   "metadata": {},
   "source": [
    "### Identifiying missing values"
   ]
  },
  {
   "cell_type": "code",
   "execution_count": 38,
   "metadata": {},
   "outputs": [],
   "source": [
    "total points = df.shape[1]\n",
    "missing = []\n",
    "names = []\n",
    "for i in df.columns:\n",
    "    series = df[i]\n",
    "    na = series.isna().sum()\n",
    "    percent = na / \n",
    "    names.append(series.name)\n",
    "    missing.append(na)\n",
    "    \n",
    "missing = pd.DataFrame(list(zip(names, missing)), \n",
    "               columns =['Column', 'Number of missing values'])"
   ]
  },
  {
   "cell_type": "code",
   "execution_count": 39,
   "metadata": {},
   "outputs": [
    {
     "data": {
      "text/html": [
       "<div>\n",
       "<style scoped>\n",
       "    .dataframe tbody tr th:only-of-type {\n",
       "        vertical-align: middle;\n",
       "    }\n",
       "\n",
       "    .dataframe tbody tr th {\n",
       "        vertical-align: top;\n",
       "    }\n",
       "\n",
       "    .dataframe thead th {\n",
       "        text-align: right;\n",
       "    }\n",
       "</style>\n",
       "<table border=\"1\" class=\"dataframe\">\n",
       "  <thead>\n",
       "    <tr style=\"text-align: right;\">\n",
       "      <th></th>\n",
       "      <th>Column</th>\n",
       "      <th>Number of missing values</th>\n",
       "    </tr>\n",
       "  </thead>\n",
       "  <tbody>\n",
       "    <tr>\n",
       "      <td>12</td>\n",
       "      <td>Employment_Info_1</td>\n",
       "      <td>19</td>\n",
       "    </tr>\n",
       "    <tr>\n",
       "      <td>15</td>\n",
       "      <td>Employment_Info_4</td>\n",
       "      <td>6779</td>\n",
       "    </tr>\n",
       "    <tr>\n",
       "      <td>17</td>\n",
       "      <td>Employment_Info_6</td>\n",
       "      <td>10854</td>\n",
       "    </tr>\n",
       "    <tr>\n",
       "      <td>29</td>\n",
       "      <td>Insurance_History_5</td>\n",
       "      <td>25396</td>\n",
       "    </tr>\n",
       "    <tr>\n",
       "      <td>34</td>\n",
       "      <td>Family_Hist_2</td>\n",
       "      <td>28656</td>\n",
       "    </tr>\n",
       "    <tr>\n",
       "      <td>35</td>\n",
       "      <td>Family_Hist_3</td>\n",
       "      <td>34241</td>\n",
       "    </tr>\n",
       "    <tr>\n",
       "      <td>36</td>\n",
       "      <td>Family_Hist_4</td>\n",
       "      <td>19184</td>\n",
       "    </tr>\n",
       "    <tr>\n",
       "      <td>37</td>\n",
       "      <td>Family_Hist_5</td>\n",
       "      <td>41811</td>\n",
       "    </tr>\n",
       "    <tr>\n",
       "      <td>38</td>\n",
       "      <td>Medical_History_1</td>\n",
       "      <td>8889</td>\n",
       "    </tr>\n",
       "    <tr>\n",
       "      <td>47</td>\n",
       "      <td>Medical_History_10</td>\n",
       "      <td>58824</td>\n",
       "    </tr>\n",
       "    <tr>\n",
       "      <td>52</td>\n",
       "      <td>Medical_History_15</td>\n",
       "      <td>44596</td>\n",
       "    </tr>\n",
       "    <tr>\n",
       "      <td>61</td>\n",
       "      <td>Medical_History_24</td>\n",
       "      <td>55580</td>\n",
       "    </tr>\n",
       "    <tr>\n",
       "      <td>69</td>\n",
       "      <td>Medical_History_32</td>\n",
       "      <td>58274</td>\n",
       "    </tr>\n",
       "  </tbody>\n",
       "</table>\n",
       "</div>"
      ],
      "text/plain": [
       "                 Column  Number of missing values\n",
       "12    Employment_Info_1                        19\n",
       "15    Employment_Info_4                      6779\n",
       "17    Employment_Info_6                     10854\n",
       "29  Insurance_History_5                     25396\n",
       "34        Family_Hist_2                     28656\n",
       "35        Family_Hist_3                     34241\n",
       "36        Family_Hist_4                     19184\n",
       "37        Family_Hist_5                     41811\n",
       "38    Medical_History_1                      8889\n",
       "47   Medical_History_10                     58824\n",
       "52   Medical_History_15                     44596\n",
       "61   Medical_History_24                     55580\n",
       "69   Medical_History_32                     58274"
      ]
     },
     "execution_count": 39,
     "metadata": {},
     "output_type": "execute_result"
    }
   ],
   "source": [
    "# Dropping zero values\n",
    "indexNames = missing[ missing['Number of missing values'] == 0 ].index\n",
    "missing.drop(indexNames, inplace=True)\n",
    "missing"
   ]
  },
  {
   "cell_type": "markdown",
   "metadata": {},
   "source": [
    "### Correlation between response and columns with missing values"
   ]
  },
  {
   "cell_type": "code",
   "execution_count": 40,
   "metadata": {},
   "outputs": [
    {
     "name": "stdout",
     "output_type": "stream",
     "text": [
      "Employment_Info_1: 0.04085248323337571. Missing values: 19\n",
      "Employment_Info_4: -0.024125382944161968. Missing values: 6779\n",
      "Employment_Info_6: 0.01776578475797191. Missing values: 10854\n",
      "Insurance_History_5: 0.020420193926166973. Missing values: 25396\n",
      "Family_Hist_2: -0.0558996720571221. Missing values: 28656\n",
      "Family_Hist_3: -0.003828032409109357. Missing values: 34241\n",
      "Family_Hist_4: -0.0893776052516475. Missing values: 19184\n",
      "Family_Hist_5: -0.018642248507825195. Missing values: 41811\n",
      "Medical_History_1: 0.10305036782583012. Missing values: 8889\n",
      "Medical_History_10: 0.029198860341542454. Missing values: 58824\n",
      "Medical_History_15: 0.2773106184959633. Missing values: 44596\n",
      "Medical_History_24: 0.01338370062564343. Missing values: 55580\n",
      "Medical_History_32: 0.14453572606401383. Missing values: 58274\n"
     ]
    }
   ],
   "source": [
    "corr = df.corr()\n",
    "for i in missing.index:\n",
    "    print(\"{}: {}. Missing values: {}\".format(missing.loc[i, 'Column'], \n",
    "                                              corr.loc[missing.loc[i, 'Column'], 'Response'],\n",
    "                                              missing.loc[i, 'Number of missing values']))"
   ]
  },
  {
   "cell_type": "markdown",
   "metadata": {},
   "source": [
    "### Percent of missing data by feature"
   ]
  },
  {
   "cell_type": "code",
   "execution_count": 41,
   "metadata": {},
   "outputs": [
    {
     "data": {
      "text/plain": [
       "<matplotlib.axes._subplots.AxesSubplot at 0x27ac774b948>"
      ]
     },
     "execution_count": 41,
     "metadata": {},
     "output_type": "execute_result"
    },
    {
     "data": {
      "image/png": "[encoded data removed]",
      "text/plain": [
       "<Figure size 1080x432 with 1 Axes>"
      ]
     },
     "metadata": {
      "needs_background": "light"
     },
     "output_type": "display_data"
    }
   ],
   "source": [
    "f, ax = plt.subplots(figsize=(15, 6))\n",
    "plt.xticks(rotation='90')\n",
    "sns.barplot(x=missing['Column'], y=missing['Number of missing values'])"
   ]
  }
 ],
 "metadata": {
  "kernelspec": {
   "display_name": "Python 3",
   "language": "python",
   "name": "python3"
  },
  "language_info": {
   "codemirror_mode": {
    "name": "ipython",
    "version": 3
   },
   "file_extension": ".py",
   "mimetype": "text/x-python",
   "name": "python",
   "nbconvert_exporter": "python",
   "pygments_lexer": "ipython3",
   "version": "3.7.4"
  }
 },
 "nbformat": 4,
 "nbformat_minor": 2
}
