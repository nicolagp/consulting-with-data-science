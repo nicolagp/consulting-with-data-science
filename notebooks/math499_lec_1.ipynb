{
 "cells": [
  {
   "cell_type": "markdown",
   "metadata": {},
   "source": [
    "# Class 1"
   ]
  },
  {
   "cell_type": "code",
   "execution_count": 3,
   "metadata": {},
   "outputs": [],
   "source": [
    "import pandas as pd\n",
    "import numpy as np\n",
    "import time"
   ]
  },
  {
   "cell_type": "code",
   "execution_count": 4,
   "metadata": {},
   "outputs": [
    {
     "name": "stdout",
     "output_type": "stream",
     "text": [
      "Approach 1 time:  3.5245308876037598\n",
      "Approach 2 time:  0.02592635154724121\n"
     ]
    }
   ],
   "source": [
    "# How to write code to sum all elements of array?\n",
    "ar = np.ones(10000000)\n",
    "\n",
    "# Approach 1:\n",
    "sum = 0\n",
    "start_time = time.time()\n",
    "for i in ar:\n",
    "    sum += i\n",
    "print(\"Approach 1 time: \", time.time() - start_time)\n",
    "    \n",
    "# Approach 2:\n",
    "start_time = time.time()\n",
    "sum = ar.sum()\n",
    "print(\"Approach 2 time: \", time.time() - start_time)"
   ]
  },
  {
   "cell_type": "markdown",
   "metadata": {},
   "source": [
    "Both functions are O(n), however the loop approach is a lot slower. Using built-in functions is usually faster"
   ]
  },
  {
   "cell_type": "markdown",
   "metadata": {},
   "source": [
    "### Exercise:\n",
    "Create a matrix where each entry (i,j) has value i*j"
   ]
  },
  {
   "cell_type": "code",
   "execution_count": 8,
   "metadata": {},
   "outputs": [
    {
     "name": "stdout",
     "output_type": "stream",
     "text": [
      "Time to run:  0.868675947189331\n"
     ]
    }
   ],
   "source": [
    "start_time = time.time()\n",
    "arr = np.zeros((1000, 1000))\n",
    "for i in range(1, 1001):\n",
    "    for j in range(1, 1001):\n",
    "        arr[i-1][j-1] = i*j\n",
    "print(\"Time to run: \", time.time() - start_time)"
   ]
  },
  {
   "cell_type": "code",
   "execution_count": null,
   "metadata": {},
   "outputs": [],
   "source": []
  }
 ],
 "metadata": {
  "kernelspec": {
   "display_name": "Python 3",
   "language": "python",
   "name": "python3"
  },
  "language_info": {
   "codemirror_mode": {
    "name": "ipython",
    "version": 3
   },
   "file_extension": ".py",
   "mimetype": "text/x-python",
   "name": "python",
   "nbconvert_exporter": "python",
   "pygments_lexer": "ipython3",
   "version": "3.7.4"
  }
 },
 "nbformat": 4,
 "nbformat_minor": 2
}
